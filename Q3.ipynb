{
 "cells": [
  {
   "cell_type": "code",
   "execution_count": 29,
   "source": [
    "from fractions import Fraction as frac\r\n",
    "def avg_dist(n):\r\n",
    "    c=0           # sum of distances\r\n",
    "    p =0          # total number of values for a single point\r\n",
    "    for i in range(n):      # for each point in the line\r\n",
    "        for j in range(n):  # all distances from the particular point\r\n",
    "           c += abs(i-j)\r\n",
    "        p+=1                # counter for values of a point, number of input values are same for all points\r\n",
    "    print(c/(p*n),end=\" \")  # hence total number of inputs are p x n\r\n",
    "    print(\"i.e. \"+str(frac(c,p*n)))\r\n",
    "\r\n",
    "\r\n",
    "avg_dist(3)\r\n",
    "avg_dist(5)\r\n",
    "avg_dist(100)\r\n",
    "avg_dist(2)\r\n",
    "avg_dist(4318)\r\n",
    "            \r\n"
   ],
   "outputs": [
    {
     "output_type": "stream",
     "name": "stdout",
     "text": [
      "0.8888888888888888 i.e. 8/9\n",
      "1.6 i.e. 8/5\n",
      "33.33 i.e. 3333/100\n",
      "0.5 i.e. 1/2\n",
      "1439.3332561371005 i.e. 6215041/4318\n"
     ]
    }
   ],
   "metadata": {}
  },
  {
   "cell_type": "code",
   "execution_count": null,
   "source": [],
   "outputs": [],
   "metadata": {}
  }
 ],
 "metadata": {
  "orig_nbformat": 4,
  "language_info": {
   "name": "python",
   "version": "3.7.4",
   "mimetype": "text/x-python",
   "codemirror_mode": {
    "name": "ipython",
    "version": 3
   },
   "pygments_lexer": "ipython3",
   "nbconvert_exporter": "python",
   "file_extension": ".py"
  },
  "kernelspec": {
   "name": "python3",
   "display_name": "Python 3.7.4 32-bit"
  },
  "interpreter": {
   "hash": "a10fe58052d53de2f628fe753df202ab061ed00aa63930584c0feb86b9c4bc70"
  }
 },
 "nbformat": 4,
 "nbformat_minor": 2
}