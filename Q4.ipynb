{
 "cells": [
  {
   "cell_type": "code",
   "execution_count": 14,
   "source": [
    "def HangMan():\r\n",
    "    import random\r\n",
    "    teams = [\"argentina\", \"australia\",\"brazil\",\"cameroon\",\"canada\",\"chile\", \"china\",\"england\",\r\n",
    "    \"france\",\"germany\",\"italy\",\"jamaica\",\"japan\",\"netherlands\",\"newzealand\",\"nigeria\",\"norway\",\r\n",
    "    \"scottland\",\"southafrica\",\"southkorea\",\"spain\",\"sweden\",\"thailand\",\"unitedstates\"]\r\n",
    "    \r\n",
    "    team = random.choice(teams)   # random function\r\n",
    "    blanks = \"_ \"*len(team)       # number of spaces\r\n",
    "    print(\"Guess the country \\n\" + blanks)\r\n",
    "    \r\n",
    "    turns = round(0.4*len(team))  # number of turns\r\n",
    "    \r\n",
    "    lst =[]\r\n",
    "    check = True                  # switch\r\n",
    "    \r\n",
    "    \r\n",
    "    while check:\r\n",
    "        print(\"Your remaining turns are: \" +str(turns))\r\n",
    "        guess = input(\"Your guess(lower case letter): \")\r\n",
    "        lst.append(guess)        # storing in a list for ease\r\n",
    "        for l in team:           # running through each blank space\r\n",
    "            if l in lst:\r\n",
    "                print(l,end=\" \")\r\n",
    "            else:\r\n",
    "                print('_',end=\" \")\r\n",
    "        print(\"\\n\")\r\n",
    "        if guess not in team:   # check on the number of chances\r\n",
    "            turns = turns -1\r\n",
    "            if turns == 0:      # gameover situation\r\n",
    "                break\r\n",
    "        check = False\r\n",
    "        for l in team:          # game win situation\r\n",
    "            if l not in lst:\r\n",
    "                check = True\r\n",
    "    if check == False:\r\n",
    "        print(\"You win\")\r\n",
    "    else:\r\n",
    "        print(\"You lose\")    \r\n",
    "\r\n",
    "            \r\n",
    "        \r\n",
    "\r\n",
    "HangMan()"
   ],
   "outputs": [
    {
     "output_type": "stream",
     "name": "stdout",
     "text": [
      "Guess the country \n",
      "_ _ _ _ _ _ _ _ _ _ \n",
      "Your remaining turns are: 4\n",
      "_ _ _ _ _ _ _ _ _ _ \n",
      "\n",
      "Your remaining turns are: 3\n",
      "_ _ _ _ _ a _ a _ _ \n",
      "\n",
      "Your remaining turns are: 3\n",
      "_ e _ _ e a _ a _ _ \n",
      "\n",
      "Your remaining turns are: 3\n",
      "n e _ _ e a _ a n _ \n",
      "\n",
      "Your remaining turns are: 3\n",
      "n e w _ e a _ a n _ \n",
      "\n",
      "Your remaining turns are: 3\n",
      "n e w _ e a l a n _ \n",
      "\n",
      "Your remaining turns are: 3\n",
      "n e w _ e a l a n d \n",
      "\n",
      "Your remaining turns are: 3\n",
      "n e w z e a l a n d \n",
      "\n",
      "You win\n"
     ]
    }
   ],
   "metadata": {}
  }
 ],
 "metadata": {
  "orig_nbformat": 4,
  "language_info": {
   "name": "python",
   "version": "3.7.4",
   "mimetype": "text/x-python",
   "codemirror_mode": {
    "name": "ipython",
    "version": 3
   },
   "pygments_lexer": "ipython3",
   "nbconvert_exporter": "python",
   "file_extension": ".py"
  },
  "kernelspec": {
   "name": "python3",
   "display_name": "Python 3.7.4 32-bit"
  },
  "interpreter": {
   "hash": "a10fe58052d53de2f628fe753df202ab061ed00aa63930584c0feb86b9c4bc70"
  }
 },
 "nbformat": 4,
 "nbformat_minor": 2
}