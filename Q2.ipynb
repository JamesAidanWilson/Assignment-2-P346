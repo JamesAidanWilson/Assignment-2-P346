{
 "cells": [
  {
   "cell_type": "code",
   "execution_count": 134,
   "source": [
    "# Defining the complex number system\r\n",
    "import math\r\n",
    "from fractions import Fraction as frac\r\n",
    "\r\n",
    "class myComplex:\r\n",
    "\r\n",
    "    def __init__(self,real,imaginary):\r\n",
    "        self.x = real\r\n",
    "        self.y = imaginary\r\n",
    "\r\n",
    "    def disp(self):\r\n",
    "        print(str(self.x)+\" + \"+\"(\"+str(self.y)+\")\" + \"i\")\r\n",
    "\r\n",
    "    def sum(self,a):\r\n",
    "        r = self.x + a.x\r\n",
    "        i = self.y + a.y\r\n",
    "        return myComplex(r,i)\r\n",
    "\r\n",
    "    def prod(self,a):\r\n",
    "        r = self.x*a.x - self.y*a.y\r\n",
    "        i = self.x*a.y + self.y*a.x\r\n",
    "        return myComplex(r,i)\r\n",
    "    \r\n",
    "    def conjugate(self):\r\n",
    "        self.y = -1*self.y\r\n",
    "\r\n",
    "    def find_conjugate(self):\r\n",
    "        r = self.x\r\n",
    "        i = -self.y\r\n",
    "        return myComplex(r,i)\r\n",
    "\r\n",
    "    def modulus(self):\r\n",
    "        mod = ((self.x)*(self.x) + (self.y)*(self.y))**(0.5)\r\n",
    "        return mod\r\n",
    "    \r\n",
    "    def reciprocal(self):\r\n",
    "        self.conjugate()\r\n",
    "        p = self.modulus()\r\n",
    "        self.x = self.x/(p**2)\r\n",
    "        self.y = self.y/(p**2)\r\n",
    "        return self\r\n",
    "\r\n",
    "    def find_reciprocal(self):\r\n",
    "        u = self.find_conjugate()\r\n",
    "        p = self.modulus()\r\n",
    "        i = u.x/p**2\r\n",
    "        r = u.y/p**2\r\n",
    "        return myComplex(i,r)\r\n",
    "    \r\n",
    "    def div(self,b):\r\n",
    "        u = self.find_reciprocal()\r\n",
    "        p = u.prod(b)\r\n",
    "        p.reciprocal()\r\n",
    "        return p\r\n",
    "\r\n",
    "    def phase(self):\r\n",
    "        print(math.atan(self.y/self.x),end=\" \")\r\n",
    "        print(\"i.e. tan inverse of \"+ str(frac(self.x,self.y)))\r\n",
    "        \r\n",
    "        \r\n",
    "\r\n",
    "\r\n",
    "\r\n",
    "r = myComplex(1,1)\r\n",
    "s = myComplex(1,1)\r\n",
    "r.div(s).disp()\r\n"
   ],
   "outputs": [
    {
     "output_type": "stream",
     "name": "stdout",
     "text": [
      "0.9999999999999998 + (0.0)i\n"
     ]
    }
   ],
   "metadata": {}
  }
 ],
 "metadata": {
  "orig_nbformat": 4,
  "language_info": {
   "name": "python",
   "version": "3.7.4",
   "mimetype": "text/x-python",
   "codemirror_mode": {
    "name": "ipython",
    "version": 3
   },
   "pygments_lexer": "ipython3",
   "nbconvert_exporter": "python",
   "file_extension": ".py"
  },
  "kernelspec": {
   "name": "python3",
   "display_name": "Python 3.7.4 32-bit"
  },
  "interpreter": {
   "hash": "a10fe58052d53de2f628fe753df202ab061ed00aa63930584c0feb86b9c4bc70"
  }
 },
 "nbformat": 4,
 "nbformat_minor": 2
}