{
 "cells": [
  {
   "cell_type": "code",
   "execution_count": 8,
   "source": [
    "# Defining matrices\r\n",
    "\r\n",
    "def null_matx(r,c): # making a null matrix\r\n",
    "    # r is for number of rows and c for columns                \r\n",
    "    X = []\r\n",
    "    for i in range(r):\r\n",
    "        Y = []\r\n",
    "        for j in range(c):\r\n",
    "            Y.append(0)\r\n",
    "        X.append(Y)\r\n",
    "    return X\r\n",
    "\r\n",
    "print(null_matx(2,4)) # test run\r\n",
    "\r\n",
    "# direct input as a list\r\n",
    "\r\n",
    "def make_matx(val,r,c): # val is for the values imported from the txt file\r\n",
    "    Nu = null_matx(r,c)\r\n",
    "    for i in range(r):\r\n",
    "        for j in range(c):                      # the string of numbers is marked as 0 1 2...\r\n",
    "            Nu[i][j] = float(val[c*i + j])      # running through all columns of the given row\r\n",
    "    return Nu      \r\n",
    "# coversion example: 103945 to [[1,0],[3,9],[4,5]] (preserving the order, the desired mxn matrix is generated)\r\n",
    "\r\n"
   ],
   "outputs": [
    {
     "output_type": "stream",
     "name": "stdout",
     "text": [
      "[[0, 0, 0, 0], [0, 0, 0, 0]]\n"
     ]
    }
   ],
   "metadata": {}
  },
  {
   "cell_type": "code",
   "execution_count": 68,
   "source": [
    "# taking input from a txt file\r\n",
    "def gen_matx(file,r,c):\r\n",
    "    p = open(file,\"r\")\r\n",
    "    f = p.read()            # extracting the data\r\n",
    "    z = make_matx(f,r,c)    # representing the matrix as a list\r\n",
    "    return z\r\n",
    "\r\n",
    "# generating raw output (as nested list)\r\n",
    "\r\n",
    "A = gen_matx(\"matA.txt\",3,3)\r\n",
    "print(A)"
   ],
   "outputs": [
    {
     "output_type": "stream",
     "name": "stdout",
     "text": [
      "[[2.0, 3.0, 4.0], [9.0, 8.0, 7.0], [1.0, 5.0, 9.0]]\n"
     ]
    }
   ],
   "metadata": {}
  },
  {
   "cell_type": "code",
   "execution_count": 69,
   "source": [
    "def disp_matx(lst): # lst is the matrix input as a list\r\n",
    "    print(\"The matrix representation is: \")\r\n",
    "    for i in range(len(lst)):\r\n",
    "        t = 0                  # using t as a counter\r\n",
    "        while t < len(lst[0]): # running through each column per specified row\r\n",
    "            dum = lst[i][t]    # define a dummy variable\r\n",
    "            print(\" \" + str(dum)+ \" \",end=\" \") \r\n",
    "            t += 1\r\n",
    "        print(\"\\n\")\r\n",
    "    print(\"---\")\r\n",
    "            \r\n",
    "\r\n",
    "disp_matx(A)"
   ],
   "outputs": [
    {
     "output_type": "stream",
     "name": "stdout",
     "text": [
      "The matrix representation is: \n",
      " 2.0   3.0   4.0  \n",
      "\n",
      " 9.0   8.0   7.0  \n",
      "\n",
      " 1.0   5.0   9.0  \n",
      "\n",
      "---\n"
     ]
    }
   ],
   "metadata": {}
  },
  {
   "cell_type": "code",
   "execution_count": 72,
   "source": [
    "B = gen_matx(\"matB.txt\",3,3)\r\n",
    "C = gen_matx(\"matC.txt\",1,3)\r\n",
    "D = gen_matx(\"matD.txt\",3,1)\r\n",
    "\r\n",
    "disp_matx(B)\r\n",
    "disp_matx(C)\r\n",
    "disp_matx(D)"
   ],
   "outputs": [
    {
     "output_type": "stream",
     "name": "stdout",
     "text": [
      "The matrix representation is: \n",
      " 1.0   0.0   0.0  \n",
      "\n",
      " 0.0   2.0   0.0  \n",
      "\n",
      " 0.0   0.0   3.0  \n",
      "\n",
      "---\n",
      "The matrix representation is: \n",
      " 2.0   7.0   4.0  \n",
      "\n",
      "---\n",
      "The matrix representation is: \n",
      " 1.0  \n",
      "\n",
      " 0.0  \n",
      "\n",
      " 1.0  \n",
      "\n",
      "---\n"
     ]
    }
   ],
   "metadata": {}
  },
  {
   "cell_type": "code",
   "execution_count": 75,
   "source": [
    "# adding matrices\r\n",
    "\r\n",
    "def add_matx(a,b):\r\n",
    "    if len(a) == len(b) and len(a[0]) == len(b[0]): # check step for invalid operations\r\n",
    "        X = null_matx(len(a),len(a[0]))\r\n",
    "        for i in range(len(a)):\r\n",
    "            for j in range(len(a[0])):\r\n",
    "                X[i][j] = a[i][j] + b[i][j]        # individual addition\r\n",
    "        return X\r\n",
    "    else:\r\n",
    "        print(\"Please input matrices of same order.\")\r\n",
    "\r\n",
    "anb = add_matx(A,B)\r\n",
    "disp_matx(anb)"
   ],
   "outputs": [
    {
     "output_type": "stream",
     "name": "stdout",
     "text": [
      "The matrix representation is: \n",
      " 3.0   3.0   4.0  \n",
      "\n",
      " 9.0   10.0   7.0  \n",
      "\n",
      " 1.0   5.0   12.0  \n",
      "\n",
      "---\n"
     ]
    }
   ],
   "metadata": {}
  },
  {
   "cell_type": "code",
   "execution_count": 74,
   "source": [
    "# multiplying matrices\r\n",
    "\r\n",
    "def prod_matx(a,b):\r\n",
    "    X = null_matx(len(a),len(b[0])) # null matrix of order of desired output matrix\r\n",
    "    if len(a[0]) == len(b):         # check step\r\n",
    "        for i in range(len(a)):              # keeping row of 1st matrix fixed\r\n",
    "            for j in range(len(b[0])):       # keeping column of 2nd matrix fixed\r\n",
    "                for k in range(len(a[0])):   # len(a[0]) == len(b) so we run through the number of columns of A/rows of B\r\n",
    "                    X[i][j] += a[i][k]*b[k][j]  # multiplication step\r\n",
    "        return X\r\n",
    "    else:\r\n",
    "        print(\"Multiplication is undefined for these two matrices.\")\r\n",
    "\r\n",
    "CD = prod_matx(C,D)\r\n",
    "AB = prod_matx(A,B)\r\n",
    "CA = prod_matx(C,A)\r\n",
    "BD = prod_matx(B,D)\r\n",
    "\r\n",
    "disp_matx(CD)\r\n",
    "disp_matx(AB)\r\n",
    "disp_matx(CA)\r\n",
    "disp_matx(BD)\r\n",
    "\r\n"
   ],
   "outputs": [
    {
     "output_type": "stream",
     "name": "stdout",
     "text": [
      "The matrix representation is: \n",
      " 6.0  \n",
      "\n",
      "---\n"
     ]
    }
   ],
   "metadata": {}
  }
 ],
 "metadata": {
  "orig_nbformat": 4,
  "language_info": {
   "name": "python",
   "version": "3.7.4",
   "mimetype": "text/x-python",
   "codemirror_mode": {
    "name": "ipython",
    "version": 3
   },
   "pygments_lexer": "ipython3",
   "nbconvert_exporter": "python",
   "file_extension": ".py"
  },
  "kernelspec": {
   "name": "python3",
   "display_name": "Python 3.7.4 32-bit"
  },
  "interpreter": {
   "hash": "a10fe58052d53de2f628fe753df202ab061ed00aa63930584c0feb86b9c4bc70"
  }
 },
 "nbformat": 4,
 "nbformat_minor": 2
}